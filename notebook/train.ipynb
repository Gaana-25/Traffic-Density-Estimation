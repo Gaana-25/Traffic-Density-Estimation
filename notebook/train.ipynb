{
 "cells": [
  {
   "cell_type": "code",
   "execution_count": 3,
   "metadata": {},
   "outputs": [],
   "source": [
    "import sys\n",
    "sys.path.append(\"..\")"
   ]
  },
  {
   "cell_type": "code",
   "execution_count": 4,
   "metadata": {},
   "outputs": [],
   "source": [
    "from utils import DataGenerator, read_annotation_lines\n",
    "from models import Yolov4\n",
    "from config import yolo_config"
   ]
  },
  {
   "cell_type": "code",
   "execution_count": 5,
   "metadata": {},
   "outputs": [
    {
     "ename": "FileNotFoundError",
     "evalue": "[Errno 2] No such file or directory: '../dataset/txt/anno-test.txt'",
     "output_type": "error",
     "traceback": [
      "\u001b[1;31m---------------------------------------------------------------------------\u001b[0m",
      "\u001b[1;31mFileNotFoundError\u001b[0m                         Traceback (most recent call last)",
      "\u001b[1;32mc:\\Users\\91901\\Desktop\\yolo-v4-tf.keras-master\\yolo-v4-tf.keras-master\\notebook\\train.ipynb Cell 3\u001b[0m in \u001b[0;36m<cell line: 1>\u001b[1;34m()\u001b[0m\n\u001b[1;32m----> <a href='vscode-notebook-cell:/c%3A/Users/91901/Desktop/yolo-v4-tf.keras-master/yolo-v4-tf.keras-master/notebook/train.ipynb#W2sZmlsZQ%3D%3D?line=0'>1</a>\u001b[0m train_lines, val_lines \u001b[39m=\u001b[39m read_annotation_lines(\u001b[39m'\u001b[39;49m\u001b[39m../dataset/txt/anno-test.txt\u001b[39;49m\u001b[39m'\u001b[39;49m, test_size\u001b[39m=\u001b[39;49m\u001b[39m0.1\u001b[39;49m)\n\u001b[0;32m      <a href='vscode-notebook-cell:/c%3A/Users/91901/Desktop/yolo-v4-tf.keras-master/yolo-v4-tf.keras-master/notebook/train.ipynb#W2sZmlsZQ%3D%3D?line=1'>2</a>\u001b[0m FOLDER_PATH \u001b[39m=\u001b[39m \u001b[39m'\u001b[39m\u001b[39m../dataset/img\u001b[39m\u001b[39m'\u001b[39m\n\u001b[0;32m      <a href='vscode-notebook-cell:/c%3A/Users/91901/Desktop/yolo-v4-tf.keras-master/yolo-v4-tf.keras-master/notebook/train.ipynb#W2sZmlsZQ%3D%3D?line=2'>3</a>\u001b[0m class_name_path \u001b[39m=\u001b[39m \u001b[39m'\u001b[39m\u001b[39m../class_names/bccd_classes.txt\u001b[39m\u001b[39m'\u001b[39m\n",
      "File \u001b[1;32mc:\\Users\\91901\\Desktop\\yolo-v4-tf.keras-master\\yolo-v4-tf.keras-master\\notebook\\..\\utils.py:81\u001b[0m, in \u001b[0;36mread_annotation_lines\u001b[1;34m(annotation_path, test_size, random_seed)\u001b[0m\n\u001b[0;32m     80\u001b[0m \u001b[39mdef\u001b[39;00m \u001b[39mread_annotation_lines\u001b[39m(annotation_path, test_size\u001b[39m=\u001b[39m\u001b[39mNone\u001b[39;00m, random_seed\u001b[39m=\u001b[39m\u001b[39m5566\u001b[39m):\n\u001b[1;32m---> 81\u001b[0m     \u001b[39mwith\u001b[39;00m \u001b[39mopen\u001b[39;49m(annotation_path) \u001b[39mas\u001b[39;00m f:\n\u001b[0;32m     82\u001b[0m         lines \u001b[39m=\u001b[39m f\u001b[39m.\u001b[39mreadlines()\n\u001b[0;32m     83\u001b[0m     \u001b[39mif\u001b[39;00m test_size:\n",
      "\u001b[1;31mFileNotFoundError\u001b[0m: [Errno 2] No such file or directory: '../dataset/txt/anno-test.txt'"
     ]
    }
   ],
   "source": [
    "train_lines, val_lines = read_annotation_lines('../dataset/txt/anno-test.txt', test_size=0.1)\n",
    "FOLDER_PATH = '../dataset/img'\n",
    "class_name_path = '../class_names/bccd_classes.txt'\n",
    "data_gen_train = DataGenerator(train_lines, class_name_path, FOLDER_PATH)\n",
    "data_gen_val = DataGenerator(val_lines, class_name_path, FOLDER_PATH)\n",
    "\n",
    "model = Yolov4(weight_path=None, \n",
    "               class_name_path=class_name_path)\n",
    "\n",
    "model.fit(data_gen_train, \n",
    "          initial_epoch=0,\n",
    "          epochs=10000, \n",
    "          val_data_gen=data_gen_val,\n",
    "          callbacks=[])"
   ]
  },
  {
   "cell_type": "code",
   "execution_count": null,
   "metadata": {},
   "outputs": [],
   "source": []
  },
  {
   "cell_type": "code",
   "execution_count": null,
   "metadata": {},
   "outputs": [],
   "source": []
  }
 ],
 "metadata": {
  "colab": {
   "authorship_tag": "ABX9TyOi+1wkzoRXzgNQN7U2NBPg",
   "default_view": {},
   "name": "Untitled",
   "provenance": [],
   "views": {}
  },
  "kernelspec": {
   "display_name": "Python 3",
   "language": "python",
   "name": "python3"
  },
  "language_info": {
   "codemirror_mode": {
    "name": "ipython",
    "version": 3
   },
   "file_extension": ".py",
   "mimetype": "text/x-python",
   "name": "python",
   "nbconvert_exporter": "python",
   "pygments_lexer": "ipython3",
   "version": "3.10.4"
  }
 },
 "nbformat": 4,
 "nbformat_minor": 4
}
